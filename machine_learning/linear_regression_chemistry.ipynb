{
 "cells": [
  {
   "cell_type": "code",
   "execution_count": 1,
   "metadata": {
    "tags": []
   },
   "outputs": [],
   "source": [
    "import math\n",
    "import statistics\n",
    "import numpy as np\n",
    "import matplotlib.pyplot as plt\n",
    "from pandas import DataFrame\n",
    "from sklearn.linear_model import LinearRegression"
   ]
  },
  {
   "cell_type": "markdown",
   "metadata": {},
   "source": [
    "#### Statistical analysis of data obtained in the instrumental analysis laboratory course.\n",
    "#### The data just below are data to generate the calibration curve, and data from samples analyzed in the laboratory."
   ]
  },
  {
   "cell_type": "code",
   "execution_count": 12,
   "metadata": {
    "tags": []
   },
   "outputs": [],
   "source": [
    "curve_x = {\"label\": \"Concentration\",\n",
    "            \"info\": \"Concentration of the Fe curve\",\n",
    "            \"data\": [1, 2, 3, 4, 5]}\n",
    "\n",
    "abs = lambda b, r: -math.log10(b/r)\n",
    "\n",
    "curve_y = {\n",
    "            \"label\": \"ABS\",\n",
    "            \"info\": \"ABS do Fe\",\n",
    "            \"data\": [abs(1.02, 1.27), \n",
    "                     abs(0.99, 1.53), \n",
    "                     abs(0.97, 1.91), \n",
    "                     abs(0.97, 2.41), \n",
    "                     abs(0.96, 3.03)]\n",
    "          }\n",
    "\n",
    "reference_value = 166.67\n",
    "\n",
    "measures = {\"label\": \"ABS\",\n",
    "            \"diluition\": 25 * 2.5,\n",
    "            \"data\": [abs(0.96, 1.96), \n",
    "                     abs(0.96, 1.96), \n",
    "                     abs(0.96, 1.97),]}"
   ]
  },
  {
   "cell_type": "code",
   "execution_count": 23,
   "metadata": {
    "tags": []
   },
   "outputs": [],
   "source": [
    "def coeficients(X, y):\n",
    "\n",
    "    df = DataFrame()\n",
    "    df['x'] = X\n",
    "    df['y'] = y\n",
    "\n",
    "    # Turn values into dataframes\n",
    "    x_v = df[['x']]\n",
    "    y_v = df[['y']]\n",
    "\n",
    "    # Create and train our linear model\n",
    "    model = LinearRegression()\n",
    "    model.fit(x_v, y_v)\n",
    "\n",
    "    # Appliyng our data\n",
    "    if measures[\"label\"] == curve_y[\"label\"]:\n",
    "        x_data = lambda y: ((y - model.intercept_[0])/ model.coef_[0][0]) * measures[\"diluition\"]\n",
    "        result = [ x_data(i) for i in measures[\"data\"]]\n",
    "        type_of_data = curve_x[\"label\"]\n",
    "\n",
    "\n",
    "    elif measures[\"label\"] == curve_x[\"label\"]:\n",
    "        y_data = lambda x: (model.coef_[0][0] * x + model.intercept_[0]) * measures[\"diluition\"]\n",
    "        result = [ y_data(i) for i in measures[\"data\"]]\n",
    "        type_of_data = curve_y[\"label\"]\n",
    "\n",
    "\n",
    "    return {\n",
    "        \"Equation\": f\"{curve_y['label']} = {model.coef_[0][0]:.4f} x {curve_x['label']} + {model.intercept_[0]:.4f}\",\n",
    "        \"Slope\": model.coef_[0][0],\n",
    "        \"Intercept\": model.intercept_[0], \n",
    "        \"R^2\": model.score(x_v, y_v),\n",
    "        f\"Measures ({measures['label']})\": measures[\"data\"],\n",
    "        f\"Result ({type_of_data})\": result, \n",
    "        \"Average\": np.mean(result),\n",
    "        \"Standard deviation (s)\": statistics.stdev(result),   \n",
    "    }"
   ]
  },
  {
   "cell_type": "code",
   "execution_count": 24,
   "metadata": {
    "tags": []
   },
   "outputs": [
    {
     "data": {
      "text/html": [
       "<div>\n",
       "<style scoped>\n",
       "    .dataframe tbody tr th:only-of-type {\n",
       "        vertical-align: middle;\n",
       "    }\n",
       "\n",
       "    .dataframe tbody tr th {\n",
       "        vertical-align: top;\n",
       "    }\n",
       "\n",
       "    .dataframe thead th {\n",
       "        text-align: right;\n",
       "    }\n",
       "</style>\n",
       "<table border=\"1\" class=\"dataframe\">\n",
       "  <thead>\n",
       "    <tr style=\"text-align: right;\">\n",
       "      <th></th>\n",
       "      <th>0</th>\n",
       "      <th>1</th>\n",
       "    </tr>\n",
       "  </thead>\n",
       "  <tbody>\n",
       "    <tr>\n",
       "      <th>0</th>\n",
       "      <td>Equation</td>\n",
       "      <td>ABS = 0.1014 x Concentration + -0.0096</td>\n",
       "    </tr>\n",
       "    <tr>\n",
       "      <th>1</th>\n",
       "      <td>Slope</td>\n",
       "      <td>0.101412</td>\n",
       "    </tr>\n",
       "    <tr>\n",
       "      <th>2</th>\n",
       "      <td>Intercept</td>\n",
       "      <td>-0.00965</td>\n",
       "    </tr>\n",
       "    <tr>\n",
       "      <th>3</th>\n",
       "      <td>R^2</td>\n",
       "      <td>0.999683</td>\n",
       "    </tr>\n",
       "    <tr>\n",
       "      <th>4</th>\n",
       "      <td>Measures (ABS)</td>\n",
       "      <td>[0.30998483831690765, 0.30998483831690765, 0.3...</td>\n",
       "    </tr>\n",
       "    <tr>\n",
       "      <th>5</th>\n",
       "      <td>Result (Concentration)</td>\n",
       "      <td>[196.9892255991305, 196.9892255991305, 198.351...</td>\n",
       "    </tr>\n",
       "    <tr>\n",
       "      <th>6</th>\n",
       "      <td>Average</td>\n",
       "      <td>197.443261</td>\n",
       "    </tr>\n",
       "    <tr>\n",
       "      <th>7</th>\n",
       "      <td>Standard deviation (s)</td>\n",
       "      <td>0.786413</td>\n",
       "    </tr>\n",
       "  </tbody>\n",
       "</table>\n",
       "</div>"
      ],
      "text/plain": [
       "                        0                                                  1\n",
       "0                Equation             ABS = 0.1014 x Concentration + -0.0096\n",
       "1                   Slope                                           0.101412\n",
       "2               Intercept                                           -0.00965\n",
       "3                     R^2                                           0.999683\n",
       "4          Measures (ABS)  [0.30998483831690765, 0.30998483831690765, 0.3...\n",
       "5  Result (Concentration)  [196.9892255991305, 196.9892255991305, 198.351...\n",
       "6                 Average                                         197.443261\n",
       "7  Standard deviation (s)                                           0.786413"
      ]
     },
     "execution_count": 24,
     "metadata": {},
     "output_type": "execute_result"
    }
   ],
   "source": [
    "data_dict = coeficients(curve_x[\"data\"], curve_y[\"data\"])\n",
    "data_items = data_dict.items()\n",
    "data_list = list(data_items)\n",
    "\n",
    "df = DataFrame(data_list)\n",
    "df"
   ]
  },
  {
   "cell_type": "code",
   "execution_count": 26,
   "metadata": {
    "tags": []
   },
   "outputs": [
    {
     "data": {
      "image/png": "[encoded data removed]",
      "text/plain": [
       "<Figure size 640x480 with 1 Axes>"
      ]
     },
     "metadata": {},
     "output_type": "display_data"
    }
   ],
   "source": [
    "# Calibration curve\n",
    "\n",
    "plt.plot(curve_x[\"data\"], curve_y[\"data\"])\n",
    "plt.plot(curve_x[\"data\"], curve_y[\"data\"], 'o', color='black')\n",
    "plt.title(f\"{curve_x['label']} x {curve_y['label']}\", fontsize=20)\n",
    "plt.xlabel(curve_x[\"label\"], fontsize=15)\n",
    "plt.ylabel(curve_y[\"label\"], fontsize=15)\n",
    "plt.show()"
   ]
  },
  {
   "cell_type": "code",
   "execution_count": null,
   "metadata": {},
   "outputs": [],
   "source": []
  }
 ],
 "metadata": {
  "kernelspec": {
   "display_name": "Python 3 (ipykernel)",
   "language": "python",
   "name": "python3"
  },
  "language_info": {
   "codemirror_mode": {
    "name": "ipython",
    "version": 3
   },
   "file_extension": ".py",
   "mimetype": "text/x-python",
   "name": "python",
   "nbconvert_exporter": "python",
   "pygments_lexer": "ipython3",
   "version": "3.9.16"
  },
  "metadata": {
   "interpreter": {
    "hash": "073f00d5cf68edf6a49db4eabf702ed0e6456bf6c99dc117d2b536a857e46b3a"
   }
  }
 },
 "nbformat": 4,
 "nbformat_minor": 4
}
