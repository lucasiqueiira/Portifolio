{
 "cells": [
  {
   "cell_type": "code",
   "execution_count": 1,
   "metadata": {},
   "outputs": [],
   "source": [
    "from sklearn.linear_model import LinearRegression\n",
    "from pandas import DataFrame\n",
    "import numpy as np\n",
    "import matplotlib.pyplot as plt\n",
    "import math\n",
    "import statistics\n",
    "import plotly.express as px"
   ]
  },
  {
   "cell_type": "markdown",
   "metadata": {},
   "source": [
    "#### Análise estatística de dados obtidos na disciplina de laboratório de análise instrumental.\n",
    "#### Os dados logo abaixo são dados para gerar a curva de calibração, e os dados das amostras analisadas em laboratório."
   ]
  },
  {
   "cell_type": "code",
   "execution_count": 2,
   "metadata": {},
   "outputs": [],
   "source": [
    "curva_x = {\"label\": \"Concentração\",\n",
    "            \"info\": \"Concentração da curva do Fe\",\n",
    "            \"data\": [1, 2, 3, 4, 5]}\n",
    "\n",
    "abs = lambda b, r: -math.log10(b/r)\n",
    "\n",
    "curva_y = {\n",
    "            \"label\": \"ABS\",\n",
    "            \"info\": \"ABS do Fe\",\n",
    "            \"data\": [abs(1.02, 1.27), \n",
    "                     abs(0.99, 1.53), \n",
    "                     abs(0.97, 1.91), \n",
    "                     abs(0.97, 2.41), \n",
    "                     abs(0.96, 3.03)]\n",
    "          }\n",
    "\n",
    "reference_value = 166.67\n",
    "\n",
    "measures = {\"label\": \"ABS\",\n",
    "            \"diluition\": 25 * 2.5,\n",
    "            \"data\": [abs(0.96, 1.96), \n",
    "                     abs(0.96, 1.96), \n",
    "                     abs(0.96, 1.97),]}"
   ]
  },
  {
   "cell_type": "code",
   "execution_count": 3,
   "metadata": {},
   "outputs": [],
   "source": [
    "def coeficientes(X, y):\n",
    "\n",
    "    df = DataFrame()\n",
    "    df['x'] = X\n",
    "    df['y'] = y\n",
    "\n",
    "    # passando os valores de x e y como Dataframes\n",
    "    x_v = df[['x']]\n",
    "    y_v = df[['y']]\n",
    "\n",
    "    # criando e treinando o modelo\n",
    "    model = LinearRegression()\n",
    "    model.fit(x_v, y_v)\n",
    "\n",
    "    #aplicando medidas na regressão\n",
    "    try:\n",
    "        if measures[\"label\"] == curva_y[\"label\"]:\n",
    "            x_data = lambda y: ((y - model.intercept_[0])/ model.coef_[0][0]) * measures[\"diluition\"]\n",
    "            result = [ x_data(i) for i in measures[\"data\"]]\n",
    "            type_of_data = curva_x[\"label\"]\n",
    "\n",
    "\n",
    "        elif measures[\"label\"] == curva_x[\"label\"]:\n",
    "            y_data = lambda x: (model.coef_[0][0] * x + model.intercept_[0]) * measures[\"diluition\"]\n",
    "            result = [ y_data(i) for i in measures[\"data\"]]\n",
    "            type_of_data = curva_y[\"label\"]\n",
    "    \n",
    "    except:\n",
    "        print(\"Erro nos dados de entrada\")\n",
    "\n",
    "    return {\n",
    "        \"Equação\": f\"{curva_y['label']} = {model.coef_[0][0]:.4f} x {curva_x['label']} + {model.intercept_[0]:.4f}\",\n",
    "        \"Coeficiente angular\": model.coef_[0][0],\n",
    "        \"Coeficiente linear\": model.intercept_[0], \n",
    "        \"R^2\": model.score(x_v, y_v),\n",
    "        f\"Medidas ({measures['label']})\": measures[\"data\"],\n",
    "        f\"Resultado ({type_of_data})\": result, \n",
    "        \"Média\": np.mean(result),\n",
    "        \"Desvio padrão amostral (s)\": statistics.stdev(result),   \n",
    "    }"
   ]
  },
  {
   "cell_type": "code",
   "execution_count": 4,
   "metadata": {},
   "outputs": [
    {
     "data": {
      "text/html": [
       "<div>\n",
       "<style scoped>\n",
       "    .dataframe tbody tr th:only-of-type {\n",
       "        vertical-align: middle;\n",
       "    }\n",
       "\n",
       "    .dataframe tbody tr th {\n",
       "        vertical-align: top;\n",
       "    }\n",
       "\n",
       "    .dataframe thead th {\n",
       "        text-align: right;\n",
       "    }\n",
       "</style>\n",
       "<table border=\"1\" class=\"dataframe\">\n",
       "  <thead>\n",
       "    <tr style=\"text-align: right;\">\n",
       "      <th></th>\n",
       "      <th>0</th>\n",
       "      <th>1</th>\n",
       "    </tr>\n",
       "  </thead>\n",
       "  <tbody>\n",
       "    <tr>\n",
       "      <th>0</th>\n",
       "      <td>Equação</td>\n",
       "      <td>ABS = 0.1014 x Concentração + -0.0096</td>\n",
       "    </tr>\n",
       "    <tr>\n",
       "      <th>1</th>\n",
       "      <td>Coeficiente angular</td>\n",
       "      <td>0.101412</td>\n",
       "    </tr>\n",
       "    <tr>\n",
       "      <th>2</th>\n",
       "      <td>Coeficiente linear</td>\n",
       "      <td>-0.00965</td>\n",
       "    </tr>\n",
       "    <tr>\n",
       "      <th>3</th>\n",
       "      <td>R^2</td>\n",
       "      <td>0.999683</td>\n",
       "    </tr>\n",
       "    <tr>\n",
       "      <th>4</th>\n",
       "      <td>Medidas (ABS)</td>\n",
       "      <td>[0.30998483831690765, 0.30998483831690765, 0.3...</td>\n",
       "    </tr>\n",
       "    <tr>\n",
       "      <th>5</th>\n",
       "      <td>Resultado (Concentração)</td>\n",
       "      <td>[196.9892255991305, 196.9892255991305, 198.351...</td>\n",
       "    </tr>\n",
       "    <tr>\n",
       "      <th>6</th>\n",
       "      <td>Média</td>\n",
       "      <td>197.443261</td>\n",
       "    </tr>\n",
       "    <tr>\n",
       "      <th>7</th>\n",
       "      <td>Desvio padrão amostral (s)</td>\n",
       "      <td>0.786413</td>\n",
       "    </tr>\n",
       "  </tbody>\n",
       "</table>\n",
       "</div>"
      ],
      "text/plain": [
       "                            0  \\\n",
       "0                     Equação   \n",
       "1         Coeficiente angular   \n",
       "2          Coeficiente linear   \n",
       "3                         R^2   \n",
       "4               Medidas (ABS)   \n",
       "5    Resultado (Concentração)   \n",
       "6                       Média   \n",
       "7  Desvio padrão amostral (s)   \n",
       "\n",
       "                                                   1  \n",
       "0              ABS = 0.1014 x Concentração + -0.0096  \n",
       "1                                           0.101412  \n",
       "2                                           -0.00965  \n",
       "3                                           0.999683  \n",
       "4  [0.30998483831690765, 0.30998483831690765, 0.3...  \n",
       "5  [196.9892255991305, 196.9892255991305, 198.351...  \n",
       "6                                         197.443261  \n",
       "7                                           0.786413  "
      ]
     },
     "execution_count": 4,
     "metadata": {},
     "output_type": "execute_result"
    }
   ],
   "source": [
    "data_dict = coeficientes(curva_x[\"data\"], curva_y[\"data\"])\n",
    "data_items = data_dict.items()\n",
    "data_list = list(data_items)\n",
    "\n",
    "df = DataFrame(data_list)\n",
    "df"
   ]
  },
  {
   "cell_type": "code",
   "execution_count": 5,
   "metadata": {},
   "outputs": [
    {
     "data": {
      "image/png": "[encoded data removed]",
      "text/plain": [
       "<Figure size 640x480 with 1 Axes>"
      ]
     },
     "metadata": {},
     "output_type": "display_data"
    }
   ],
   "source": [
    "#GRÁFICO COM O MATPLOTLIB\n",
    "\n",
    "plt.plot(curva_x[\"data\"], curva_y[\"data\"])\n",
    "plt.plot(curva_x[\"data\"], curva_y[\"data\"], 'o', color='black')\n",
    "plt.title(f\"{curva_x['label']} x {curva_y['label']}\", fontsize=20)\n",
    "plt.xlabel(curva_x[\"label\"], fontsize=15)\n",
    "plt.ylabel(curva_y[\"label\"], fontsize=15)\n",
    "plt.show()"
   ]
  },
  {
   "cell_type": "code",
   "execution_count": 6,
   "metadata": {},
   "outputs": [
    {
     "name": "stdout",
     "output_type": "stream",
     "text": [
      "\u001b[36mRemoving\u001b[0m \u001b[32msklearn\u001b[0m \u001b[36mfrom\u001b[0m \u001b[37mPipfile.lock...\u001b[0m\n",
      "\u001b[32mRemoved sklearn from Pipfile category packages\u001b[0m\n",
      "\u001b[36mRemoving\u001b[0m \u001b[32mlab\u001b[0m \u001b[36mfrom\u001b[0m \u001b[37mPipfile.lock...\u001b[0m\n",
      "\u001b[32mRemoved lab from Pipfile category packages\u001b[0m\n",
      "\u001b[32m\u001b[1mUninstalling sklearn\u001b[0m...\u001b[0m\n",
      "\u001b[36mFound existing installation: sklearn 0.0.post1\n",
      "Uninstalling sklearn-0.0.post1:\n",
      "  Successfully uninstalled sklearn-0.0.post1\n",
      "\u001b[0m\n",
      "\u001b[32m\u001b[1mUninstalling lab\u001b[0m...\u001b[0m\n",
      "\u001b[36mFound existing installation: lab 7.2\n",
      "Uninstalling lab-7.2:\n",
      "  Successfully uninstalled lab-7.2\n",
      "\u001b[0m\n",
      "Locking\u001b[0m \u001b[33m[packages]\u001b[0m dependencies...\u001b[0m\n",
      "\u001b[2K\u001b[32m⠼\u001b[0m ✔ Success!dependencies.....\n",
      "\u001b[1A\u001b[2KLocking\u001b[0m \u001b[33m[dev-packages]\u001b[0m dependencies...\u001b[0m\n",
      "\u001b[1mUpdated Pipfile.lock (ef6884412e061d71b19ed507ad529943ef43cad72fc176eb6182d0b1a33be8eb)!\u001b[0m\n"
     ]
    }
   ],
   "source": [
    "!pipenv uninstall sklearn lab"
   ]
  },
  {
   "cell_type": "code",
   "execution_count": null,
   "metadata": {},
   "outputs": [],
   "source": []
  }
 ],
 "metadata": {
  "kernelspec": {
   "display_name": "Python 3 (ipykernel)",
   "language": "python",
   "name": "python3"
  },
  "language_info": {
   "codemirror_mode": {
    "name": "ipython",
    "version": 3
   },
   "file_extension": ".py",
   "mimetype": "text/x-python",
   "name": "python",
   "nbconvert_exporter": "python",
   "pygments_lexer": "ipython3",
   "version": "3.10.7"
  },
  "metadata": {
   "interpreter": {
    "hash": "073f00d5cf68edf6a49db4eabf702ed0e6456bf6c99dc117d2b536a857e46b3a"
   }
  }
 },
 "nbformat": 4,
 "nbformat_minor": 4
}
