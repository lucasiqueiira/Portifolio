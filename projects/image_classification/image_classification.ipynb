{
 "cells": [
  {
   "cell_type": "code",
   "execution_count": 1,
   "id": "e1ba15d5-17a1-4e06-8e3b-a9d15f5db56f",
   "metadata": {
    "tags": []
   },
   "outputs": [],
   "source": [
    "# Python 3.10"
   ]
  },
  {
   "cell_type": "markdown",
   "id": "a72ad016-53b9-45c0-8460-1bbcb1dda322",
   "metadata": {},
   "source": [
    "# Image classification"
   ]
  },
  {
   "cell_type": "markdown",
   "id": "32fc3c34-45cc-45df-8a24-2a132d3a1749",
   "metadata": {},
   "source": [
    "In this notebook, I will build an image classification model, the model will be trained with images of cats and dogs.</br>\n",
    "The chosen architecture was ResNet50."
   ]
  },
  {
   "cell_type": "markdown",
   "id": "84720ea2",
   "metadata": {},
   "source": [
    "### Importing libraries"
   ]
  },
  {
   "cell_type": "code",
   "execution_count": null,
   "id": "5a213c46-a0cd-46ad-8af2-5c14cbe8557a",
   "metadata": {
    "tags": []
   },
   "outputs": [],
   "source": [
    "import os\n",
    "\n",
    "import cv2\n",
    "import matplotlib.pyplot as plt\n",
    "import numpy as np\n",
    "import onnxruntime as ort\n",
    "import tensorflow as tf"
   ]
  },
  {
   "cell_type": "markdown",
   "id": "273f2d40-3a40-433a-96e7-4cec442d0fac",
   "metadata": {},
   "source": [
    "### Loading and preprocessing data"
   ]
  },
  {
   "cell_type": "markdown",
   "id": "8759b6da-ea6c-465c-9a34-ce12f4eed05a",
   "metadata": {},
   "source": [
    "The images are in my home directory, in the path \"datasets/cats_and_dogs\", I will use the function `tf.keras.utils.image_dataset_from_directory` to load this data (open the images as a tensor, and generate a datagenerator where each batch will contain the tensors and the labels)\n",
    "\n",
    "```\n",
    "~\n",
    "├── datasets\n",
    "│   ├── cats_and_dogs\n",
    "│   │   ├── cats\n",
    "│   │   │   ├── *.jpg\n",
    "│   │   ├── dogs\n",
    "│   │   │   ├── *.jpg\n",
    "```"
   ]
  },
  {
   "cell_type": "code",
   "execution_count": 3,
   "id": "5cc7125e-36bf-45bd-848f-ce4a5e074e74",
   "metadata": {
    "tags": []
   },
   "outputs": [],
   "source": [
    "# Defining variables\n",
    "home_directory = os.path.expanduser(\"~\")\n",
    "images_folder = \"datasets/cats_and_dogs\"\n",
    "data_dir = os.path.join(home_directory, images_folder)\n",
    "\n",
    "IMG_HEIGHT = 224\n",
    "IMG_WIDTH = 224\n",
    "BATCH_SIZE = 32"
   ]
  },
  {
   "cell_type": "code",
   "execution_count": 3,
   "id": "1f8b45d5",
   "metadata": {},
   "outputs": [
    {
     "name": "stdout",
     "output_type": "stream",
     "text": [
      "Found 25000 files belonging to 2 classes.\n",
      "Using 20000 files for training.\n"
     ]
    },
    {
     "name": "stderr",
     "output_type": "stream",
     "text": [
      "2023-07-21 20:32:54.673893: E tensorflow/compiler/xla/stream_executor/cuda/cuda_driver.cc:267] failed call to cuInit: CUDA_ERROR_UNKNOWN: unknown error\n",
      "2023-07-21 20:32:54.673917: I tensorflow/compiler/xla/stream_executor/cuda/cuda_diagnostics.cc:169] retrieving CUDA diagnostic information for host: taj\n",
      "2023-07-21 20:32:54.673921: I tensorflow/compiler/xla/stream_executor/cuda/cuda_diagnostics.cc:176] hostname: taj\n",
      "2023-07-21 20:32:54.673979: I tensorflow/compiler/xla/stream_executor/cuda/cuda_diagnostics.cc:200] libcuda reported version is: 525.116.4\n",
      "2023-07-21 20:32:54.673993: I tensorflow/compiler/xla/stream_executor/cuda/cuda_diagnostics.cc:204] kernel reported version is: 525.116.4\n",
      "2023-07-21 20:32:54.673996: I tensorflow/compiler/xla/stream_executor/cuda/cuda_diagnostics.cc:310] kernel version seems to match DSO: 525.116.4\n"
     ]
    }
   ],
   "source": [
    "# Load train dataset\n",
    "train_ds = tf.keras.utils.image_dataset_from_directory(\n",
    "    data_dir,\n",
    "    validation_split=0.2,\n",
    "    subset=\"training\",\n",
    "    seed=42,\n",
    "    image_size=(IMG_HEIGHT, IMG_WIDTH),\n",
    "    batch_size=BATCH_SIZE\n",
    ")"
   ]
  },
  {
   "cell_type": "code",
   "execution_count": 5,
   "id": "95f29eeb",
   "metadata": {
    "tags": []
   },
   "outputs": [
    {
     "name": "stdout",
     "output_type": "stream",
     "text": [
      "Found 25000 files belonging to 2 classes.\n",
      "Using 5000 files for validation.\n"
     ]
    }
   ],
   "source": [
    "# Load validation dataset\n",
    "val_ds = tf.keras.utils.image_dataset_from_directory(\n",
    "    data_dir,\n",
    "    validation_split=0.2,\n",
    "    subset=\"validation\",\n",
    "    seed=123,\n",
    "    image_size=(IMG_HEIGHT, IMG_WIDTH),\n",
    "    batch_size=BATCH_SIZE\n",
    ")"
   ]
  },
  {
   "cell_type": "code",
   "execution_count": 5,
   "id": "2274c14a",
   "metadata": {},
   "outputs": [
    {
     "name": "stdout",
     "output_type": "stream",
     "text": [
      "['cat', 'dog']\n"
     ]
    }
   ],
   "source": [
    "# Class names\n",
    "class_names = train_ds.class_names\n",
    "print(class_names)"
   ]
  },
  {
   "cell_type": "markdown",
   "id": "5eed2ca2-fa87-45dc-9a44-e112ef88e64b",
   "metadata": {},
   "source": [
    "### Create model"
   ]
  },
  {
   "cell_type": "code",
   "execution_count": 6,
   "id": "42bf0995",
   "metadata": {},
   "outputs": [],
   "source": [
    "# Loading pre-trained ResNet model with ImageNet weights\n",
    "base_model = tf.keras.applications.ResNet50(\n",
    "    include_top=False,\n",
    "    weights='imagenet',\n",
    "    input_shape=(IMG_HEIGHT, IMG_WIDTH, 3),\n",
    "    classes=2\n",
    ")\n",
    "\n",
    "for layer in model.layers:\n",
    "    layer.trainable = False"
   ]
  },
  {
   "cell_type": "code",
   "execution_count": 7,
   "id": "6543529e",
   "metadata": {},
   "outputs": [],
   "source": [
    "# Building model\n",
    "x = base_model.output\n",
    "x = tf.keras.layers.GlobalAveragePooling2D()(x)\n",
    "x = tf.keras.layers.Dense(512, activation='relu')(x) \n",
    "x = tf.keras.layers.Dropout(0.5)(x)\n",
    "x = tf.keras.layers.Dense(256, activation='relu')(x) \n",
    "x = tf.keras.layers.Dropout(0.5)(x)\n",
    "x = tf.keras.layers.Dense(128, activation='relu')(x) \n",
    "x = tf.keras.layers.Dropout(0.5)(x)\n",
    "x = tf.keras.layers.Dense(64, activation='relu')(x) \n",
    "x = tf.keras.layers.Dropout(0.5)(x)\n",
    "predictions = tf.keras.layers.Dense(2, activation='softmax')(x)\n",
    "\n",
    "model = tf.keras.Model(inputs = base_model.input, outputs = predictions)"
   ]
  },
  {
   "cell_type": "code",
   "execution_count": 8,
   "id": "0760287c-cadf-4ab4-92d6-df305218bd99",
   "metadata": {},
   "outputs": [],
   "source": [
    "model.compile(\n",
    "    loss=\"sparse_categorical_crossentropy\", \n",
    "    optimizer=\"adam\", \n",
    "    metrics=[\"accuracy\"]\n",
    ")"
   ]
  },
  {
   "cell_type": "markdown",
   "id": "01d23201-f231-47e3-8d5b-b92178d46d30",
   "metadata": {},
   "source": [
    "### Train model"
   ]
  },
  {
   "cell_type": "code",
   "execution_count": 9,
   "id": "80018229",
   "metadata": {},
   "outputs": [],
   "source": [
    "# Create model_checkpoint callback\n",
    "checkpoints_folder = \"checkpoints\"\n",
    "os.makedirs(checkpoints_folder, exist_ok=True)\n",
    "\n",
    "checkpoint_model = os.path.join(checkpoints_folder, \"model-{epoch:02d}-{val_loss:.3f}-{accuracy:.3f}-{val_accuracy:.3f}\")\n",
    "\n",
    "model_checkpoint = tf.keras.callbacks.ModelCheckpoint(\n",
    "    filepath=checkpoint_model,\n",
    "    mode=\"max\",\n",
    "    monitor=\"val_accuracy\",\n",
    "    save_best_only=False,\n",
    "    save_weights_only=True,\n",
    "    verbose=0\n",
    ")\n",
    "\n",
    "# Create early stopping callback\n",
    "early_stopping_callback = tf.keras.callbacks.EarlyStopping(\n",
    "    monitor='val_loss',\n",
    "    min_delta=0,\n",
    "    patience=1,\n",
    "    verbose=0,\n",
    "    mode='auto',\n",
    "    baseline=None,\n",
    "    restore_best_weights=False,\n",
    "    start_from_epoch=0\n",
    ")"
   ]
  },
  {
   "cell_type": "code",
   "execution_count": 10,
   "id": "5e986232-da32-4aa3-8186-9256f34bcd63",
   "metadata": {},
   "outputs": [
    {
     "name": "stdout",
     "output_type": "stream",
     "text": [
      "Epoch 1/5\n",
      "625/625 [==============================] - 714s 1s/step - loss: 0.1944 - accuracy: 0.9360 - val_loss: 0.0638 - val_accuracy: 0.9752\n",
      "Epoch 2/5\n",
      "625/625 [==============================] - 711s 1s/step - loss: 0.0844 - accuracy: 0.9721 - val_loss: 0.0540 - val_accuracy: 0.9780\n",
      "Epoch 3/5\n",
      "625/625 [==============================] - 708s 1s/step - loss: 0.0742 - accuracy: 0.9745 - val_loss: 0.0507 - val_accuracy: 0.9812\n",
      "Epoch 4/5\n",
      "625/625 [==============================] - 694s 1s/step - loss: 0.0656 - accuracy: 0.9776 - val_loss: 0.0461 - val_accuracy: 0.9824\n",
      "Epoch 5/5\n",
      "625/625 [==============================] - 705s 1s/step - loss: 0.0610 - accuracy: 0.9782 - val_loss: 0.0452 - val_accuracy: 0.9848\n"
     ]
    }
   ],
   "source": [
    "history = model.fit(\n",
    "    train_ds,\n",
    "    validation_data=val_ds,\n",
    "    epochs=5,\n",
    "    callbacks=[model_checkpoint, early_stopping_callback]\n",
    ")"
   ]
  },
  {
   "cell_type": "markdown",
   "id": "40863795",
   "metadata": {},
   "source": [
    "### Plot train metrics"
   ]
  },
  {
   "cell_type": "code",
   "execution_count": 12,
   "id": "a7db243e",
   "metadata": {},
   "outputs": [
    {
     "data": {
      "text/plain": [
       "<matplotlib.legend.Legend at 0x7f24f630b7c0>"
      ]
     },
     "execution_count": 12,
     "metadata": {},
     "output_type": "execute_result"
    },
    {
     "data": {
      "image/png": "[encoded data removed]",
      "text/plain": [
       "<Figure size 1080x1080 with 2 Axes>"
      ]
     },
     "metadata": {
      "needs_background": "light"
     },
     "output_type": "display_data"
    }
   ],
   "source": [
    "fig, axs = plt.subplots(2, 1, figsize=(15,15))\n",
    "axs[0].plot(history.history['loss'])\n",
    "axs[0].plot(history.history['val_loss'])\n",
    "axs[0].title.set_text('Training Loss vs Validation Loss')\n",
    "axs[0].set_xlabel('Epochs')\n",
    "axs[0].set_ylabel('Loss')\n",
    "axs[0].legend(['Train','Val'])\n",
    "axs[1].plot(history.history['accuracy'])\n",
    "axs[1].plot(history.history['val_accuracy'])\n",
    "axs[1].title.set_text('Training Accuracy vs Validation Accuracy')\n",
    "axs[1].set_xlabel('Epochs')\n",
    "axs[1].set_ylabel('Accuracy')\n",
    "axs[1].legend(['Train', 'Val'])"
   ]
  },
  {
   "cell_type": "markdown",
   "id": "985df57a-61b2-4460-81b3-3f416daf0b1b",
   "metadata": {},
   "source": [
    "### Evaluate model"
   ]
  },
  {
   "cell_type": "code",
   "execution_count": 13,
   "id": "16f67779-6a74-44af-ab95-281bdcd79cd6",
   "metadata": {},
   "outputs": [
    {
     "name": "stdout",
     "output_type": "stream",
     "text": [
      "157/157 [==============================] - 136s 866ms/step - loss: 0.0452 - accuracy: 0.9848\n",
      "Loss: 0.04524622857570648\n",
      "Accuracy: 0.9847999811172485\n"
     ]
    }
   ],
   "source": [
    "metrics = model.evaluate(val_ds)\n",
    "print(f\"Loss: {metrics[0]}\\nAccuracy: {metrics[1]}\")"
   ]
  },
  {
   "cell_type": "markdown",
   "id": "07bd1548-0782-44fe-b74c-73e1321405d3",
   "metadata": {},
   "source": [
    "### Save model"
   ]
  },
  {
   "cell_type": "code",
   "execution_count": 11,
   "id": "8bb06d93",
   "metadata": {},
   "outputs": [
    {
     "name": "stderr",
     "output_type": "stream",
     "text": [
      "WARNING:absl:Found untraced functions such as _jit_compiled_convolution_op, _jit_compiled_convolution_op, _jit_compiled_convolution_op, _jit_compiled_convolution_op, _jit_compiled_convolution_op while saving (showing 5 of 54). These functions will not be directly callable after loading.\n"
     ]
    },
    {
     "name": "stdout",
     "output_type": "stream",
     "text": [
      "INFO:tensorflow:Assets written to: cats_and_dogs.model/assets\n"
     ]
    },
    {
     "name": "stderr",
     "output_type": "stream",
     "text": [
      "INFO:tensorflow:Assets written to: cats_and_dogs.model/assets\n"
     ]
    }
   ],
   "source": [
    "model.save(\"models/cats_and_dogs.model\")\n",
    "\n",
    "# To load saved model\n",
    "# model = tf.keras.models.load_model(\"cats_and_dogs.model\")"
   ]
  },
  {
   "cell_type": "markdown",
   "id": "5db339d8",
   "metadata": {},
   "source": [
    "### Convert model to ONNX format"
   ]
  },
  {
   "cell_type": "markdown",
   "id": "691d8bf4-a783-49e6-8c42-646bacc6a142",
   "metadata": {},
   "source": [
    "> ONNX is an open-source standard that makes it easy to move deep learning models between different frameworks and hardware platforms. It provides a set of tools for optimizing and quantizing models, and it is supported by a wide range of companies and organizations. As a result, ONNX is becoming an important standard for deep learning, making it easy to share models and deploy them across different platforms."
   ]
  },
  {
   "cell_type": "code",
   "execution_count": 4,
   "id": "1ee50473-f65a-430b-9cf9-f35b40219dd4",
   "metadata": {
    "tags": []
   },
   "outputs": [
    {
     "name": "stderr",
     "output_type": "stream",
     "text": [
      "/usr/lib/python3.10/runpy.py:126: RuntimeWarning: 'tf2onnx.convert' found in sys.modules after import of package 'tf2onnx', but prior to execution of 'tf2onnx.convert'; this may result in unpredictable behaviour\n",
      "  warn(RuntimeWarning(msg))\n",
      "2023-07-21 21:48:56,407 - WARNING - '--tag' not specified for saved_model. Using --tag serve\n",
      "2023-07-21 21:48:59,917 - INFO - Signatures found in model: [serving_default].\n",
      "2023-07-21 21:48:59,917 - WARNING - '--signature_def' not specified, using first signature: serving_default\n",
      "2023-07-21 21:48:59,918 - INFO - Output names: ['dense_4']\n",
      "2023-07-21 21:49:02,373 - INFO - Using tensorflow=2.11.0, onnx=1.13.0, tf2onnx=1.14.0/8f8d49\n",
      "2023-07-21 21:49:02,373 - INFO - Using opset <onnx, 15>\n",
      "2023-07-21 21:49:02,640 - INFO - Computed 0 values for constant folding\n",
      "2023-07-21 21:49:03,194 - INFO - Optimizing ONNX model\n",
      "2023-07-21 21:49:04,262 - INFO - After optimization: Add -1 (22->21), BatchNormalization -53 (53->0), Const -161 (279->118), GlobalAveragePool +1 (0->1), Identity -2 (2->0), ReduceMean -1 (1->0), Squeeze +1 (0->1), Transpose -213 (214->1)\n",
      "2023-07-21 21:49:04,325 - INFO - \n",
      "2023-07-21 21:49:04,325 - INFO - Successfully converted TensorFlow model cats_and_dogs.model to ONNX\n",
      "2023-07-21 21:49:04,325 - INFO - Model inputs: ['input_1']\n",
      "2023-07-21 21:49:04,325 - INFO - Model outputs: ['dense_4']\n",
      "2023-07-21 21:49:04,325 - INFO - ONNX model is saved at cats_and_dogs.onnx\n"
     ]
    },
    {
     "data": {
      "text/plain": [
       "0"
      ]
     },
     "execution_count": 4,
     "metadata": {},
     "output_type": "execute_result"
    }
   ],
   "source": [
    "os.system(\"python -m tf2onnx.convert --saved-model models/cats_and_dogs.model --output models/cats_and_dogs.onnx\")"
   ]
  },
  {
   "cell_type": "markdown",
   "id": "698cdd03-c7f0-4f1f-a18d-fc599c17b3aa",
   "metadata": {},
   "source": [
    "### Load ONNX model and make inference"
   ]
  },
  {
   "cell_type": "code",
   "execution_count": 64,
   "id": "f6151ada-f83d-4b0d-8712-91e138aba3e6",
   "metadata": {
    "tags": []
   },
   "outputs": [],
   "source": [
    "def onnx_session(model_path):\n",
    "    sess = ort.InferenceSession(model_path)\n",
    "    input_shape = (sess.get_inputs()[0].shape[1], sess.get_inputs()[0].shape[2])\n",
    "\n",
    "    return sess, input_shape\n",
    "\n",
    "def predict(sess, data):\n",
    "    input_name = sess.get_inputs()[0].name\n",
    "    outputs = sess.run(\n",
    "        output_names=None, \n",
    "        input_feed={input_name: np.array(data, dtype=\"float32\")}\n",
    "    )\n",
    "    \n",
    "    return outputs\n",
    "\n",
    "def read_image(img_path, shape=None):\n",
    "    # Read image as tensor\n",
    "    img = cv2.imread(img_path)\n",
    "    img = cv2.cvtColor(img, cv2.COLOR_BGR2RGB)\n",
    "    img = cv2.resize(img, shape)\n",
    "    \n",
    "    # Convert image to a batch\n",
    "    img = tf.expand_dims(img, axis=0)\n",
    "    return img\n",
    "    \n",
    "def return_classes(preds):\n",
    "    return {\"cat\": preds[0], \"dog\": preds[1]}"
   ]
  },
  {
   "cell_type": "code",
   "execution_count": 65,
   "id": "8c815d7f-318c-4b10-9f08-8617805f87e2",
   "metadata": {
    "tags": []
   },
   "outputs": [],
   "source": [
    "# Create session\n",
    "sess, input_shape = onnx_session(\"models/cats_and_dogs.onnx\")"
   ]
  },
  {
   "cell_type": "code",
   "execution_count": 66,
   "id": "1dc4805c-3db9-4961-ae94-865bdeb959db",
   "metadata": {
    "tags": []
   },
   "outputs": [
    {
     "data": {
      "text/plain": [
       "(224, 224)"
      ]
     },
     "execution_count": 66,
     "metadata": {},
     "output_type": "execute_result"
    }
   ],
   "source": [
    "input_shape"
   ]
  },
  {
   "cell_type": "code",
   "execution_count": 67,
   "id": "832336b0-c299-4e27-9a8d-b8a2364b1cce",
   "metadata": {
    "tags": []
   },
   "outputs": [],
   "source": [
    "# Load image example\n",
    "image_path = \"/home/taj/datasets/cats_and_dogs/cat/class1_1.jpg\"\n",
    "img = read_image(image_path, shape=input_shape)"
   ]
  },
  {
   "cell_type": "code",
   "execution_count": 68,
   "id": "517df630-e8a5-428f-bd60-7aa95a07b66e",
   "metadata": {
    "tags": []
   },
   "outputs": [
    {
     "data": {
      "text/plain": [
       "TensorShape([1, 224, 224, 3])"
      ]
     },
     "execution_count": 68,
     "metadata": {},
     "output_type": "execute_result"
    }
   ],
   "source": [
    "img.shape"
   ]
  },
  {
   "cell_type": "code",
   "execution_count": 69,
   "id": "5246d959-e9b1-4884-af65-89c8dc26ff4d",
   "metadata": {
    "tags": []
   },
   "outputs": [],
   "source": [
    "# Make inference\n",
    "outputs = predict(sess, img)"
   ]
  },
  {
   "cell_type": "code",
   "execution_count": 75,
   "id": "6c09007f-b833-4fc9-9550-951d84d36979",
   "metadata": {
    "tags": []
   },
   "outputs": [
    {
     "name": "stdout",
     "output_type": "stream",
     "text": [
      "{'cat': 0.9302252, 'dog': 0.069774844}\n"
     ]
    }
   ],
   "source": [
    "# print results\n",
    "print(return_classes(outputs[0][0]))"
   ]
  },
  {
   "cell_type": "code",
   "execution_count": null,
   "id": "5d000fb6-c249-4f2c-bf5c-2221db73364a",
   "metadata": {},
   "outputs": [],
   "source": []
  }
 ],
 "metadata": {
  "kernelspec": {
   "display_name": "Python 3 (ipykernel)",
   "language": "python",
   "name": "python3"
  },
  "language_info": {
   "codemirror_mode": {
    "name": "ipython",
    "version": 3
   },
   "file_extension": ".py",
   "mimetype": "text/x-python",
   "name": "python",
   "nbconvert_exporter": "python",
   "pygments_lexer": "ipython3",
   "version": "3.10.6"
  }
 },
 "nbformat": 4,
 "nbformat_minor": 5
}
