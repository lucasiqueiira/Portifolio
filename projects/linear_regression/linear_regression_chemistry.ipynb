{
 "cells": [
  {
   "cell_type": "code",
   "execution_count": 1,
   "metadata": {
    "tags": []
   },
   "outputs": [],
   "source": [
    "# Python 3.10"
   ]
  },
  {
   "cell_type": "markdown",
   "metadata": {},
   "source": [
    "# Linear regression with scikit-learn"
   ]
  },
  {
   "cell_type": "code",
   "execution_count": 11,
   "metadata": {
    "tags": []
   },
   "outputs": [],
   "source": [
    "import math\n",
    "import statistics\n",
    "\n",
    "import matplotlib.pyplot as plt\n",
    "import pandas as pd\n",
    "from sklearn.linear_model import LinearRegression"
   ]
  },
  {
   "cell_type": "markdown",
   "metadata": {},
   "source": [
    "#### Statistical analysis of data obtained in the instrumental analysis laboratory course.\n",
    "#### The data just below are data to generate the calibration curve, and data from samples analyzed in the laboratory."
   ]
  },
  {
   "cell_type": "markdown",
   "metadata": {},
   "source": [
    "For the construction of the analytical curve (regression), we will need the absorbance data in 5 different concentrations, the data we obtained are the intensities of the light when passed through the sample, and the intensity of the incident light. From these data we can easily calculate the absorbance through the equation:"
   ]
  },
  {
   "cell_type": "markdown",
   "metadata": {},
   "source": [
    "$ Absorbance = log\\frac{Io}{I} $"
   ]
  },
  {
   "cell_type": "code",
   "execution_count": 64,
   "metadata": {
    "tags": []
   },
   "outputs": [],
   "source": [
    "# Function to calculate absorbance\n",
    "absorbance = lambda I0, I: -math.log10(I0/I)\n",
    "\n",
    "# Absorbance data to generate the regression in mg/L\n",
    "x_data = {\n",
    "    \"label\": \"ABS\",\n",
    "    \"info\": \"ABS of Fe\",\n",
    "    \"data\": [\n",
    "        absorbance(1.02, 1.27), \n",
    "        absorbance(0.99, 1.53), \n",
    "        absorbance(0.97, 1.91), \n",
    "        absorbance(0.97, 2.41), \n",
    "        absorbance(0.96, 3.03)\n",
    "    ]\n",
    "}\n",
    "\n",
    "# Concentration data to generate the regression in mg/L\n",
    "y_data = {\n",
    "    \"label\": \"Concentration\",\n",
    "    \"info\": \"Concentration of the Fe curve\",\n",
    "    \"data\": [1, 2, 3, 4, 5]\n",
    "}"
   ]
  },
  {
   "cell_type": "code",
   "execution_count": 65,
   "metadata": {
    "tags": []
   },
   "outputs": [],
   "source": [
    "# Transform our data to pass to our linear model\n",
    "X = [[i] for i in x_data[\"data\"]]\n",
    "y = y_data[\"data\"]"
   ]
  },
  {
   "cell_type": "code",
   "execution_count": 66,
   "metadata": {
    "tags": []
   },
   "outputs": [
    {
     "data": {
      "text/plain": [
       "LinearRegression()"
      ]
     },
     "execution_count": 66,
     "metadata": {},
     "output_type": "execute_result"
    }
   ],
   "source": [
    "# Instanciate and fit our model\n",
    "model = LinearRegression()\n",
    "model.fit(X, y)"
   ]
  },
  {
   "cell_type": "code",
   "execution_count": 101,
   "metadata": {
    "tags": []
   },
   "outputs": [
    {
     "data": {
      "text/html": [
       "<div>\n",
       "<style scoped>\n",
       "    .dataframe tbody tr th:only-of-type {\n",
       "        vertical-align: middle;\n",
       "    }\n",
       "\n",
       "    .dataframe tbody tr th {\n",
       "        vertical-align: top;\n",
       "    }\n",
       "\n",
       "    .dataframe thead th {\n",
       "        text-align: right;\n",
       "    }\n",
       "</style>\n",
       "<table border=\"1\" class=\"dataframe\">\n",
       "  <thead>\n",
       "    <tr style=\"text-align: right;\">\n",
       "      <th></th>\n",
       "      <th>0</th>\n",
       "      <th>1</th>\n",
       "    </tr>\n",
       "  </thead>\n",
       "  <tbody>\n",
       "    <tr>\n",
       "      <th>0</th>\n",
       "      <td>Equation</td>\n",
       "      <td>Concentration = 9.8576 x ABS + 0.0961</td>\n",
       "    </tr>\n",
       "    <tr>\n",
       "      <th>1</th>\n",
       "      <td>R-squared</td>\n",
       "      <td>0.999683</td>\n",
       "    </tr>\n",
       "  </tbody>\n",
       "</table>\n",
       "</div>"
      ],
      "text/plain": [
       "           0                                      1\n",
       "0   Equation  Concentration = 9.8576 x ABS + 0.0961\n",
       "1  R-squared                               0.999683"
      ]
     },
     "execution_count": 101,
     "metadata": {},
     "output_type": "execute_result"
    }
   ],
   "source": [
    "model_summary = {\n",
    "    \"Equation\": f\"{y_data['label']} = {model.coef_[0]:.4f} x {x_data['label']} + {model.intercept_:.4f}\",\n",
    "    \"R-squared\": model.score(X, y)\n",
    "}\n",
    "\n",
    "summary_df = pd.DataFrame(model_summary.items())\n",
    "summary_df"
   ]
  },
  {
   "cell_type": "code",
   "execution_count": 107,
   "metadata": {
    "tags": []
   },
   "outputs": [
    {
     "data": {
      "image/png": "[encoded data removed]",
      "text/plain": [
       "<Figure size 720x432 with 1 Axes>"
      ]
     },
     "metadata": {},
     "output_type": "display_data"
    }
   ],
   "source": [
    "# Calibration curve\n",
    "plt.style.use(\"seaborn\")\n",
    "plt.figure(figsize=(10,6))\n",
    "plt.plot(x_data[\"data\"], y_data[\"data\"])\n",
    "plt.plot(x_data[\"data\"], y_data[\"data\"], 'o', color='black')\n",
    "plt.title(f\"{x_data['label']} x {y_data['label']}\", fontsize=20)\n",
    "plt.xlabel(x_data[\"label\"], fontsize=20)\n",
    "plt.ylabel(y_data[\"label\"], fontsize=20)\n",
    "plt.show()"
   ]
  },
  {
   "cell_type": "markdown",
   "metadata": {},
   "source": [
    "# Making inference"
   ]
  },
  {
   "cell_type": "markdown",
   "metadata": {
    "tags": []
   },
   "source": [
    "Here we have 3 measurements of the same sample to perform the inference."
   ]
  },
  {
   "cell_type": "code",
   "execution_count": 95,
   "metadata": {
    "tags": []
   },
   "outputs": [],
   "source": [
    "measures = {\n",
    "    \"label\": \"ABS\",\n",
    "    \"units_of_measure\": \"mg/L\",\n",
    "    \"data\": [\n",
    "        absorbance(0.96, 1.96),\n",
    "        absorbance(0.96, 1.96),\n",
    "        absorbance(0.96, 1.97)\n",
    "    ]\n",
    "}"
   ]
  },
  {
   "cell_type": "code",
   "execution_count": 87,
   "metadata": {
    "tags": []
   },
   "outputs": [],
   "source": [
    "# Predict\n",
    "predicts = [model.predict([[i]])[0] for i in measures[\"data\"]]"
   ]
  },
  {
   "cell_type": "code",
   "execution_count": 88,
   "metadata": {
    "tags": []
   },
   "outputs": [],
   "source": [
    "mean = statistics.mean(predicts)\n",
    "std = statistics.stdev(predicts)"
   ]
  },
  {
   "cell_type": "code",
   "execution_count": 114,
   "metadata": {
    "tags": []
   },
   "outputs": [
    {
     "name": "stdout",
     "output_type": "stream",
     "text": [
      "Concentration of sample: 3.1590 mg/L\n",
      "Standard deviation: 0.0126.\n"
     ]
    }
   ],
   "source": [
    "print(f\"Concentration of sample: {mean:.4f} {measures['units_of_measure']}\")\n",
    "print(f\"Standard deviation: {std:.4f}.\")"
   ]
  }
 ],
 "metadata": {
  "kernelspec": {
   "display_name": "Python 3 (ipykernel)",
   "language": "python",
   "name": "python3"
  },
  "language_info": {
   "codemirror_mode": {
    "name": "ipython",
    "version": 3
   },
   "file_extension": ".py",
   "mimetype": "text/x-python",
   "name": "python",
   "nbconvert_exporter": "python",
   "pygments_lexer": "ipython3",
   "version": "3.10.6"
  },
  "metadata": {
   "interpreter": {
    "hash": "073f00d5cf68edf6a49db4eabf702ed0e6456bf6c99dc117d2b536a857e46b3a"
   }
  }
 },
 "nbformat": 4,
 "nbformat_minor": 4
}
